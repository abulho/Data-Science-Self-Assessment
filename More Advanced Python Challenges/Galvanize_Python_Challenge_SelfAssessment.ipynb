{
 "cells": [
  {
   "cell_type": "markdown",
   "metadata": {},
   "source": [
    "### Challenge 1\n",
    "##### Write a function that looks at the number of times given letters appear in a document. The output should be in a dicitionary"
   ]
  },
  {
   "cell_type": "code",
   "execution_count": null,
   "metadata": {
    "collapsed": true
   },
   "outputs": [],
   "source": []
  },
  {
   "cell_type": "markdown",
   "metadata": {},
   "source": [
    "### Challenge 2\n",
    "Write a function that removes one occurance of a given item from a list. Do not use methods .pop() or .remove()! If the item is not present in the list, output should be 'The item is not in the list'"
   ]
  },
  {
   "cell_type": "code",
   "execution_count": 23,
   "metadata": {
    "collapsed": false
   },
   "outputs": [],
   "source": [
    "def remove_item(list_items, item_to_remove):\n",
    "    removedList = []\n",
    "    if item_to_remove not in list_items:\n",
    "        return 'The item in not in list'\n",
    "    else:\n",
    "        for item in list_items:\n",
    "            if item == item_to_remove: continue\n",
    "            removedList.append(item)\n",
    "        return removedList"
   ]
  },
  {
   "cell_type": "code",
   "execution_count": 24,
   "metadata": {
    "collapsed": false
   },
   "outputs": [
    {
     "data": {
      "text/plain": [
       "[1, 3, 7, 0]"
      ]
     },
     "execution_count": 24,
     "metadata": {},
     "output_type": "execute_result"
    }
   ],
   "source": [
    "remove_item([1,3,7,8,0],8)"
   ]
  },
  {
   "cell_type": "code",
   "execution_count": 25,
   "metadata": {
    "collapsed": false
   },
   "outputs": [
    {
     "data": {
      "text/plain": [
       "'The item in not in list'"
      ]
     },
     "execution_count": 25,
     "metadata": {},
     "output_type": "execute_result"
    }
   ],
   "source": [
    "remove_item([1,3,7,8,0],2)"
   ]
  },
  {
   "cell_type": "markdown",
   "metadata": {},
   "source": [
    "### Challenge 3\n",
    "The simple substitution cipher basically consists of substituting every plaintext character for a different ciphertext character. The following is an example of one possible cipher from http://practicalcryptography.com/ciphers/simple-substitution-cipher/:\n",
    "1. Plain alphabet : abcdefghijklmnopqrstuvwxyz\n",
    "2. cipher alphabet: phqgiumeaylnofdxjkrcvstzwb"
   ]
  },
  {
   "cell_type": "code",
   "execution_count": 26,
   "metadata": {
    "collapsed": true
   },
   "outputs": [],
   "source": [
    "def cipher(text,cipher_alphabet, option):\n",
    "    words = text.split()\n",
    "    \n",
    "    if option == 'decipher':\n",
    "        dec = []\n",
    "        for word in words:\n",
    "            letters = list(word)\n",
    "            dec_word=[]\n",
    "            for letter in letters:\n",
    "                for k,v in PACA.items():\n",
    "                    if v == letter:\n",
    "                        dec_word.append(k)\n",
    "            dec.append(''.join(dec_word))\n",
    "        return ' '.join(dec)\n",
    "    \n",
    "    if option == 'encipher':\n",
    "        enc = []\n",
    "        for word in words:\n",
    "            letters = list(word)\n",
    "            enc_word=[]\n",
    "            for letter in letters:\n",
    "                for k,v in PACA.items():\n",
    "                    if k == letter:\n",
    "                        enc_word.append(v)\n",
    "            enc.append(''.join(enc_word))\n",
    "        return ' '.join(enc)"
   ]
  },
  {
   "cell_type": "code",
   "execution_count": 27,
   "metadata": {
    "collapsed": true
   },
   "outputs": [],
   "source": [
    "Plainalphabet = 'abcdefghijklmnopqrstuvwxyz'\n",
    "cipheralphabet= 'phqgiumeaylnofdxjkrcvstzwb'\n",
    "PA = list(Plainalphabet)\n",
    "CA = list(cipheralphabet)\n",
    "PACA = dict(zip(PA,CA))"
   ]
  },
  {
   "cell_type": "code",
   "execution_count": 28,
   "metadata": {
    "collapsed": false
   },
   "outputs": [
    {
     "data": {
      "text/plain": [
       "'defend the east wall of the castle'"
      ]
     },
     "execution_count": 28,
     "metadata": {},
     "output_type": "execute_result"
    }
   ],
   "source": [
    "cipher('giuifg cei iprc tpnn du cei qprcni', PACA, 'decipher')"
   ]
  },
  {
   "cell_type": "markdown",
   "metadata": {},
   "source": [
    "### Challenge 4\n",
    "Implement a function that counts the number of isograms in a list of strings.\n",
    "1. An isogram is a word that has no repeating letters, consecutive or non-consecutive.\n",
    "2. Assume the empty string is an isogram and that the function should be case insensitive."
   ]
  },
  {
   "cell_type": "code",
   "execution_count": 29,
   "metadata": {
    "collapsed": true
   },
   "outputs": [],
   "source": [
    "def count_isograms(list_of_words):\n",
    "    letterCountsList = []\n",
    "    for word in words:\n",
    "        letterCounts = {}\n",
    "        letters = list(word)\n",
    "        for letter in letters:\n",
    "            if letter not in letterCounts:\n",
    "                letterCounts[letter] = 1\n",
    "            else:\n",
    "                letterCounts[letter] += 1\n",
    "        letterCountsList.append(letterCounts)\n",
    "    \n",
    "    isoIndex = []\n",
    "    for i, entry in enumerate(letterCountsList):\n",
    "        sumCheck = sum(entry.values())\n",
    "        if sumCheck != len(entry):continue\n",
    "        isoIndex.append(i)\n",
    "        print 'isogram = ' + words[i]\n",
    "        print 'number of isograms found = ' + str(len(isoIndex))"
   ]
  },
  {
   "cell_type": "code",
   "execution_count": 20,
   "metadata": {
    "collapsed": false
   },
   "outputs": [
    {
     "name": "stdout",
     "output_type": "stream",
     "text": [
      "isogram = hours\n",
      "number of isograms found = 1\n"
     ]
    }
   ],
   "source": [
    "words = ['conduct','letter','contract','hours','interview']\n",
    "count_isograms(words)"
   ]
  },
  {
   "cell_type": "markdown",
   "metadata": {},
   "source": [
    "### Challenge 5\n",
    "Write a function that returns a list of matching items. Items are defined by a tuple with a letter and a number and we consider item 1 to match item 2 if:\n",
    "1. Both their letters are vowels (aeiou), or both are consonnants and,\n",
    "2. The sum of their numbers is a multiple of 3\n",
    "<br>\n",
    "(1,2) contains the same information as (2,1), the output list should only contain one of them."
   ]
  },
  {
   "cell_type": "code",
   "execution_count": 30,
   "metadata": {
    "collapsed": true
   },
   "outputs": [],
   "source": [
    "def matching_pairs(data_list):\n",
    "    vowelID = []\n",
    "    constID = []\n",
    "    \n",
    "    for index1, compEntry in enumerate(data):\n",
    "        \n",
    "        for index2, entry in enumerate(data):\n",
    "            \n",
    "            if index1 == index2:continue\n",
    "        \n",
    "            cond1 = compEntry[0] in ['a','e','i','o','u'] \n",
    "            cond2 = entry[0] in ['a','e','i','o','u'] \n",
    "            cond3 = compEntry[0] not in ['a','e','i','o','u'] \n",
    "            cond4 = entry[0] not in ['a','e','i','o','u']\n",
    "            cond5 = (compEntry[1]+ entry[1])%3==0\n",
    "                    \n",
    "            if cond1 and cond2 and cond5:\n",
    "                if sorted([index1,index2]) in vowelID:continue\n",
    "                vowelID.append([index1,index2])\n",
    "                \n",
    "            if cond3 and cond4 and cond5:\n",
    "                if sorted([index1,index2]) in constID:continue\n",
    "                constID.append([index1,index2])\n",
    "    \n",
    "    allID=[]\n",
    "    for item in vowelID+constID:\n",
    "        allID.append(tuple(item))\n",
    "    return allID"
   ]
  },
  {
   "cell_type": "code",
   "execution_count": 22,
   "metadata": {
    "collapsed": false
   },
   "outputs": [
    {
     "data": {
      "text/plain": [
       "[(0, 4), (1, 2), (3, 5)]"
      ]
     },
     "execution_count": 22,
     "metadata": {},
     "output_type": "execute_result"
    }
   ],
   "source": [
    "data=[('a',4),('b',5),('c',1),('d',3),('e',2),('f',6)]\n",
    "matching_pairs(data)"
   ]
  },
  {
   "cell_type": "markdown",
   "metadata": {
    "collapsed": true
   },
   "source": [
    "## 1. Dataset\n",
    "x 0, 1, 2, 3, 5\n",
    "<br>\n",
    "y 1, 2.1, 3.2, 4, 6.1\n",
    "<br>\n",
    "(a) Plot corresponding the scatter plot.\n",
    "<br>\n",
    "(b) Find the least square regression line y = ax + b. Add it to your plot.\n",
    "<br>\n",
    "(c) Estimate the value of y when x = 4.\n",
    "<br>\n",
    "Extra Credit: Can you do these steps in Python?"
   ]
  },
  {
   "cell_type": "code",
   "execution_count": 151,
   "metadata": {
    "collapsed": true
   },
   "outputs": [],
   "source": [
    "import numpy as np\n",
    "import matplotlib.pyplot as plt\n",
    "%matplotlib inline"
   ]
  },
  {
   "cell_type": "code",
   "execution_count": 152,
   "metadata": {
    "collapsed": true
   },
   "outputs": [],
   "source": [
    "x = [0,1,2,3,5]\n",
    "y = [1,2.1,3.2,4,6.1]\n",
    "X = np.array(x) # chaning x to numpy array\n",
    "Y = np.array(y) # chaning y to mumpy array"
   ]
  },
  {
   "cell_type": "code",
   "execution_count": 153,
   "metadata": {
    "collapsed": false
   },
   "outputs": [
    {
     "data": {
      "text/plain": [
       "<matplotlib.text.Text at 0x10f99588>"
      ]
     },
     "execution_count": 153,
     "metadata": {},
     "output_type": "execute_result"
    },
    {
     "data": {
      "image/png": "[encoded data removed]",
      "text/plain": [
       "<matplotlib.figure.Figure at 0x10f6c630>"
      ]
     },
     "metadata": {},
     "output_type": "display_data"
    }
   ],
   "source": [
    "plt.figure(figsize=(12,6))\n",
    "plt.plot(X,Y, \n",
    "         label='Raw Data', \n",
    "         marker='o', \n",
    "         markersize=12, \n",
    "         color='r',\n",
    "         linestyle= 'None')\n",
    "plt.legend(loc='upper left',fontsize=15)\n",
    "plt.grid()\n",
    "plt.xlim(0,6)\n",
    "plt.ylim(0,7)\n",
    "plt.xticks(size=15) \n",
    "plt.yticks(size=15) \n",
    "plt.xlabel('X', fontsize=15)\n",
    "plt.ylabel('Y', fontsize=15)\n"
   ]
  },
  {
   "cell_type": "code",
   "execution_count": 154,
   "metadata": {
    "collapsed": false
   },
   "outputs": [
    {
     "name": "stdout",
     "output_type": "stream",
     "text": [
      "The Equation of best fit line: y = 1.008x+1.062\n"
     ]
    }
   ],
   "source": [
    "# the equation for the best fit line is given by [XY_bar - X_bar*Y_bar] / [(X^2)_bar * (X_bar)^2]\n",
    "XY = X*Y  # multiplying X and Y\n",
    "XY_bar = XY.mean() # mean of XY\n",
    "X_bar = X.mean() # mean of X\n",
    "Y_bar = Y.mean() # mean of Y\n",
    "X2 = X**2 # square of all X values\n",
    "Y2 = Y**2 # square of all Y values\n",
    "X2_bar = X2.mean() # mean of X^2 values\n",
    "Y2_bar = Y2.mean() # mean of Y^2 values\n",
    "m = (XY_bar - X_bar*Y_bar) / (X2_bar - X_bar*X_bar) # slope of best fit line\n",
    "b = Y_bar - m*X_bar # Y intercept of best fit line\n",
    "Y_fit = m*X + b # Y values for found from the best fit line equation\n",
    "\n",
    "print 'The Equation of best fit line: y = ' + str(round(m,3)) + 'x+' + str(round(b,3))"
   ]
  },
  {
   "cell_type": "code",
   "execution_count": 155,
   "metadata": {
    "collapsed": false
   },
   "outputs": [
    {
     "data": {
      "text/plain": [
       "<matplotlib.text.Text at 0x112f2710>"
      ]
     },
     "execution_count": 155,
     "metadata": {},
     "output_type": "execute_result"
    },
    {
     "data": {
      "image/png": "[encoded data removed]",
      "text/plain": [
       "<matplotlib.figure.Figure at 0x11122f60>"
      ]
     },
     "metadata": {},
     "output_type": "display_data"
    }
   ],
   "source": [
    "plt.figure(figsize=(12,6))\n",
    "plt.plot(X,Y, \n",
    "         label='Raw Data', \n",
    "         marker='o', \n",
    "         markersize=12, \n",
    "         color='r',\n",
    "         linestyle= 'None')\n",
    "plt.plot(X,Y_fit, \n",
    "         label='Best Fit Line', \n",
    "         marker='None', \n",
    "         markersize=12, \n",
    "         color='b')\n",
    "plt.legend(loc='upper left',fontsize=15)\n",
    "plt.grid()\n",
    "plt.xlim(0,6)\n",
    "plt.ylim(0,7)\n",
    "plt.xticks(size=15) \n",
    "plt.yticks(size=15) \n",
    "plt.xlabel('X', fontsize=15)\n",
    "plt.ylabel('Y', fontsize=15)\n",
    "plt.text(2.5,2.5,'y = '+str(round(m,3))+'x+ '+str(round(b,3)), fontsize=15)"
   ]
  },
  {
   "cell_type": "code",
   "execution_count": 156,
   "metadata": {
    "collapsed": false
   },
   "outputs": [
    {
     "name": "stdout",
     "output_type": "stream",
     "text": [
      "Estimate of y when x = 4: y = 5.095\n"
     ]
    }
   ],
   "source": [
    "Y_4 = m*4 + b \n",
    "print  'Estimate of y when x = 4: y = ' + str(round(Y_4,3))"
   ]
  },
  {
   "cell_type": "markdown",
   "metadata": {},
   "source": [
    "### 2. Dateset\n",
    "x 0, 1, 2, 3, 4, 7, 9, 11, 30\n",
    "<br>\n",
    "y 2., 4.9, 8., 10.8, 13.9, 23.1, 29., 35., 92.1\n",
    "<br>\n",
    "(a) Find the least square regression line for the given data points.\n",
    "<br>\n",
    "(b) Plot the given points and the regression line on the same graph."
   ]
  },
  {
   "cell_type": "code",
   "execution_count": 191,
   "metadata": {
    "collapsed": true
   },
   "outputs": [],
   "source": [
    "x=[0,1,2,3,4,7,9,11,30]\n",
    "y=[2,4.9,8,10.8,13.9,23.1,29,35,92.1]"
   ]
  },
  {
   "cell_type": "markdown",
   "metadata": {},
   "source": [
    "###### Finding the least square regression line"
   ]
  },
  {
   "cell_type": "code",
   "execution_count": 192,
   "metadata": {
    "collapsed": false
   },
   "outputs": [
    {
     "name": "stdout",
     "output_type": "stream",
     "text": [
      "The Equation of best fit line: y = 3.006x+1.933\n"
     ]
    }
   ],
   "source": [
    "X = np.array(x)\n",
    "Y = np.array(y)\n",
    "# the equation for the best fit line is given by [XY_bar - X_bar*Y_bar] / [(X^2)_bar * (X_bar)^2]\n",
    "X = np.array(x) # chaning x to numpy array\n",
    "Y = np.array(y) # chaning y to mumpy array\n",
    "XY = X*Y  # multiplying X and Y\n",
    "XY_bar = XY.mean() # mean of XY\n",
    "X_bar = X.mean() # mean of X\n",
    "Y_bar = Y.mean() # mean of Y\n",
    "X2 = X**2 # square of all X values\n",
    "Y2 = Y**2 # square of all Y values\n",
    "X2_bar = X2.mean() # mean of X^2 values\n",
    "Y2_bar = Y2.mean() # mean of Y^2 values\n",
    "m = (XY_bar - X_bar*Y_bar) / (X2_bar - X_bar*X_bar) # slope of best fit line\n",
    "b = Y_bar - m*X_bar # Y intercept of best fit line\n",
    "Y_fit = m*X + b # Y values for found from the best fit line equation\n",
    "\n",
    "print 'The Equation of best fit line: y = ' + str(round(m,3)) + 'x+' + str(round(b,3))"
   ]
  },
  {
   "cell_type": "markdown",
   "metadata": {},
   "source": [
    "###### Plotting the raw data as a scatter plot"
   ]
  },
  {
   "cell_type": "code",
   "execution_count": 193,
   "metadata": {
    "collapsed": false
   },
   "outputs": [
    {
     "data": {
      "text/plain": [
       "<matplotlib.text.Text at 0x120d7cc0>"
      ]
     },
     "execution_count": 193,
     "metadata": {},
     "output_type": "execute_result"
    },
    {
     "data": {
      "image/png": "[encoded data removed]",
      "text/plain": [
       "<matplotlib.figure.Figure at 0x11dfd128>"
      ]
     },
     "metadata": {},
     "output_type": "display_data"
    }
   ],
   "source": [
    "plt.figure(figsize=(12,6))\n",
    "plt.plot(X,Y, \n",
    "         label='Raw Data', \n",
    "         marker='o', \n",
    "         markersize=12, \n",
    "         color='r',\n",
    "         linestyle= 'None')\n",
    "plt.legend(loc='upper left',fontsize=15)\n",
    "plt.grid()\n",
    "plt.xlim(0,35)\n",
    "plt.ylim(0,95)\n",
    "plt.xticks(size=15) \n",
    "plt.yticks(size=15) \n",
    "plt.xlabel('X', fontsize=15)\n",
    "plt.ylabel('Y', fontsize=15)"
   ]
  },
  {
   "cell_type": "markdown",
   "metadata": {},
   "source": [
    "###### Plotting the raw data together with the best fit regression line"
   ]
  },
  {
   "cell_type": "code",
   "execution_count": 194,
   "metadata": {
    "collapsed": false,
    "scrolled": true
   },
   "outputs": [
    {
     "data": {
      "text/plain": [
       "<matplotlib.text.Text at 0x123b7320>"
      ]
     },
     "execution_count": 194,
     "metadata": {},
     "output_type": "execute_result"
    },
    {
     "data": {
      "image/png": "[encoded data removed]",
      "text/plain": [
       "<matplotlib.figure.Figure at 0x11a0e828>"
      ]
     },
     "metadata": {},
     "output_type": "display_data"
    }
   ],
   "source": [
    "plt.figure(figsize=(12,6))\n",
    "plt.plot(X,Y, \n",
    "         label='Raw Data', \n",
    "         marker='o', \n",
    "         markersize=12, \n",
    "         color='r',\n",
    "         linestyle= 'None')\n",
    "plt.plot(X,Y_fit, \n",
    "         label='Best Fit Line', \n",
    "         marker='None', \n",
    "         markersize=12, \n",
    "         color='b')\n",
    "plt.legend(loc='upper left',fontsize=15)\n",
    "plt.grid()\n",
    "plt.xlim(0,35)\n",
    "plt.ylim(0,95)\n",
    "plt.xticks(size=15) \n",
    "plt.yticks(size=15) \n",
    "plt.xlabel('X', fontsize=15)\n",
    "plt.ylabel('Y', fontsize=15)\n",
    "plt.text(15,41,'y = '+str(round(m,3))+'x+ '+str(round(b,3)), fontsize=15)"
   ]
  },
  {
   "cell_type": "code",
   "execution_count": 195,
   "metadata": {
    "collapsed": false
   },
   "outputs": [
    {
     "data": {
      "text/plain": [
       "array([ 3.00599349,  1.93315961])"
      ]
     },
     "execution_count": 195,
     "metadata": {},
     "output_type": "execute_result"
    }
   ],
   "source": []
  },
  {
   "cell_type": "markdown",
   "metadata": {},
   "source": [
    "### 3. We have following (x,y) points:\n",
    "[(0, 42.0), (1, -101.0), (2, 21.0), (3, -38.0), (4, 5.0), (7, 20.0), (9, 293.0),\n",
    "(11, 266.0), (15, 625.0), (20, 1266.0), (25, 1757.0), (30, 2844.0)]\n",
    "<br>\n",
    "(a) Plot the data.\n",
    "<br>\n",
    "(b) How do you think a linear model would perform? How about a 100 degree polynomial model?\n",
    "How would you figure out which of these models was preferable?\n",
    "<br>\n",
    "(c) How would you model the relationship between these features?"
   ]
  },
  {
   "cell_type": "code",
   "execution_count": 196,
   "metadata": {
    "collapsed": true
   },
   "outputs": [],
   "source": [
    "data = [(0, 42.0), (1, -101.0), (2, 21.0), (3, -38.0), (4, 5.0), (7, 20.0), \n",
    "        (9, 293.0), (11, 266.0), (15, 625.0), (20, 1266.0), (25, 1757.0), (30, 2844.0)] "
   ]
  },
  {
   "cell_type": "code",
   "execution_count": 197,
   "metadata": {
    "collapsed": false
   },
   "outputs": [],
   "source": [
    "x=[a[0] for a in data]\n",
    "y=[b[1] for b in data]\n",
    "\n",
    "X = np.array(x)\n",
    "Y = np.array(y)"
   ]
  },
  {
   "cell_type": "markdown",
   "metadata": {},
   "source": [
    "#### (a) Plot the data"
   ]
  },
  {
   "cell_type": "code",
   "execution_count": 198,
   "metadata": {
    "collapsed": false
   },
   "outputs": [
    {
     "data": {
      "text/plain": [
       "<matplotlib.text.Text at 0x1243f358>"
      ]
     },
     "execution_count": 198,
     "metadata": {},
     "output_type": "execute_result"
    },
    {
     "data": {
      "image/png": "[encoded data removed]",
      "text/plain": [
       "<matplotlib.figure.Figure at 0x11fe4be0>"
      ]
     },
     "metadata": {},
     "output_type": "display_data"
    }
   ],
   "source": [
    "plt.figure(figsize=(12,6))\n",
    "plt.plot(X,Y, \n",
    "         label='Raw Data', \n",
    "         marker='o', \n",
    "         markersize=12, \n",
    "         color='r',\n",
    "         linestyle= 'None')\n",
    "plt.legend(loc='upper left',fontsize=15)\n",
    "plt.grid()\n",
    "#plt.xlim(0,35)\n",
    "#plt.ylim(0,95)\n",
    "plt.xticks(size=15) \n",
    "plt.yticks(size=15) \n",
    "plt.xlabel('X', fontsize=15)\n",
    "plt.ylabel('Y', fontsize=15)"
   ]
  },
  {
   "cell_type": "markdown",
   "metadata": {},
   "source": [
    "###### fitting a linear model and 100 degree polynomial "
   ]
  },
  {
   "cell_type": "code",
   "execution_count": 219,
   "metadata": {
    "collapsed": false
   },
   "outputs": [
    {
     "name": "stderr",
     "output_type": "stream",
     "text": [
      "C:\\Users\\mohameda2\\AppData\\Local\\Continuum\\Anaconda2_V1\\lib\\site-packages\\numpy\\lib\\polynomial.py:595: RankWarning: Polyfit may be poorly conditioned\n",
      "  warnings.warn(msg, RankWarning)\n"
     ]
    },
    {
     "data": {
      "text/plain": [
       "<matplotlib.text.Text at 0x15473080>"
      ]
     },
     "execution_count": 219,
     "metadata": {},
     "output_type": "execute_result"
    },
    {
     "data": {
      "image/png": "[encoded data removed]",
      "text/plain": [
       "<matplotlib.figure.Figure at 0x15453b38>"
      ]
     },
     "metadata": {},
     "output_type": "display_data"
    }
   ],
   "source": [
    "# linear model \n",
    "fit_linear = np.polyfit(X,Y,1)\n",
    "Y_linear = np.polyval(fit_linear,X) # fitting the linear model \n",
    "\n",
    "# 100 degree polynomial\n",
    "fit_100deg_poly = np.polyfit(X,Y,100)\n",
    "Y_100deg_poly = np.polyval(fit_100deg_poly,X) # fitting the 100 degree poly model\n",
    "\n",
    "plt.figure(figsize=(12,6))\n",
    "plt.plot(X,Y, \n",
    "         label='Raw Data', \n",
    "         marker='o', \n",
    "         markersize=12, \n",
    "         color='r',\n",
    "         linestyle= 'None')\n",
    "plt.plot(X,Y_linear, \n",
    "         label='Linear Model', \n",
    "         marker='None', \n",
    "         markersize=12, \n",
    "         color='b')\n",
    "plt.plot(X,Y_100deg_poly, \n",
    "         label='100 degree poly', \n",
    "         marker='None', \n",
    "         markersize=12, \n",
    "         color='g')\n",
    "plt.legend(loc='upper left',fontsize=15)\n",
    "plt.grid()\n",
    "#plt.xlim(0,35)\n",
    "#plt.ylim(0,95)\n",
    "plt.xticks(size=15) \n",
    "plt.yticks(size=15) \n",
    "plt.xlabel('X', fontsize=15)\n",
    "plt.ylabel('Y', fontsize=15)"
   ]
  },
  {
   "cell_type": "markdown",
   "metadata": {},
   "source": []
  },
  {
   "cell_type": "code",
   "execution_count": 220,
   "metadata": {
    "collapsed": true
   },
   "outputs": [],
   "source": [
    "xx=[101, 120, 154, 89, 97, 132, 126, 105, 94, 111, 98, 90, 88, 115, 99, 85, 131,\n",
    "127, 116]"
   ]
  },
  {
   "cell_type": "code",
   "execution_count": 221,
   "metadata": {
    "collapsed": false
   },
   "outputs": [
    {
     "data": {
      "text/plain": [
       "19"
      ]
     },
     "execution_count": 221,
     "metadata": {},
     "output_type": "execute_result"
    }
   ],
   "source": [
    "len(xx)"
   ]
  },
  {
   "cell_type": "code",
   "execution_count": 222,
   "metadata": {
    "collapsed": true
   },
   "outputs": [],
   "source": [
    "xxx = np.array(xx)"
   ]
  },
  {
   "cell_type": "code",
   "execution_count": 223,
   "metadata": {
    "collapsed": false
   },
   "outputs": [
    {
     "data": {
      "text/plain": [
       "109.36842105263158"
      ]
     },
     "execution_count": 223,
     "metadata": {},
     "output_type": "execute_result"
    }
   ],
   "source": [
    "xxx.mean()"
   ]
  },
  {
   "cell_type": "code",
   "execution_count": 224,
   "metadata": {
    "collapsed": false
   },
   "outputs": [
    {
     "data": {
      "text/plain": [
       "18.218586594654518"
      ]
     },
     "execution_count": 224,
     "metadata": {},
     "output_type": "execute_result"
    }
   ],
   "source": [
    "xxx.std()"
   ]
  },
  {
   "cell_type": "code",
   "execution_count": null,
   "metadata": {
    "collapsed": true
   },
   "outputs": [],
   "source": []
  }
 ],
 "metadata": {
  "kernelspec": {
   "display_name": "Python 2",
   "language": "python",
   "name": "python2"
  },
  "language_info": {
   "codemirror_mode": {
    "name": "ipython",
    "version": 2
   },
   "file_extension": ".py",
   "mimetype": "text/x-python",
   "name": "python",
   "nbconvert_exporter": "python",
   "pygments_lexer": "ipython2",
   "version": "2.7.13"
  }
 },
 "nbformat": 4,
 "nbformat_minor": 2
}
