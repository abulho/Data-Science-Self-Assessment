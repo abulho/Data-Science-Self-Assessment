{
 "cells": [
  {
   "cell_type": "markdown",
   "metadata": {},
   "source": [
    "### Challenge 1\n",
    "Write a function that looks at the number of times given letters appear in a document. The output should be in a dicitionary"
   ]
  },
  {
   "cell_type": "code",
   "execution_count": 1,
   "metadata": {
    "collapsed": false
   },
   "outputs": [],
   "source": [
    "def testing(path_to_file, letters_to_count):\n",
    "    \n",
    "    handle = open(path_to_file) \n",
    "    \n",
    "    LetterList = [] \n",
    "    for line in handle:\n",
    "        linetemp = line.rstrip()      \n",
    "        linetemp1 = linetemp.lstrip() \n",
    "        words = linetemp1.split()    \n",
    "        for word in words:\n",
    "            LetterList += list(word)\n",
    "    \n",
    "    countDict = {}\n",
    "    for letter in LetterList:\n",
    "        if letter not in list(letters_to_count):\n",
    "            continue\n",
    "        \n",
    "        if letter not in countDict:\n",
    "            countDict[letter] = 1\n",
    "        else:\n",
    "            countDict[letter] += 1\n",
    "            \n",
    "    return countDict  "
   ]
  },
  {
   "cell_type": "markdown",
   "metadata": {},
   "source": [
    "### Challenge 2\n",
    "Write a function that removes one occurance of a given item from a list. Do not use methods .pop() or .remove()! If the item is not present in the list, output should be 'The item is not in the list'"
   ]
  },
  {
   "cell_type": "code",
   "execution_count": 2,
   "metadata": {
    "collapsed": false
   },
   "outputs": [],
   "source": [
    "def remove_item(list_items, item_to_remove):\n",
    "    removedList = []\n",
    "    if item_to_remove not in list_items:\n",
    "        return 'The item in not in list'\n",
    "    else:\n",
    "        for item in list_items:\n",
    "            if item == item_to_remove: continue\n",
    "            removedList.append(item)\n",
    "        return removedList"
   ]
  },
  {
   "cell_type": "code",
   "execution_count": 3,
   "metadata": {
    "collapsed": false
   },
   "outputs": [
    {
     "data": {
      "text/plain": [
       "[1, 3, 7, 0]"
      ]
     },
     "execution_count": 3,
     "metadata": {},
     "output_type": "execute_result"
    }
   ],
   "source": [
    "remove_item([1,3,7,8,0],8)"
   ]
  },
  {
   "cell_type": "code",
   "execution_count": 4,
   "metadata": {
    "collapsed": false
   },
   "outputs": [
    {
     "data": {
      "text/plain": [
       "'The item in not in list'"
      ]
     },
     "execution_count": 4,
     "metadata": {},
     "output_type": "execute_result"
    }
   ],
   "source": [
    "remove_item([1,3,7,8,0],2)"
   ]
  },
  {
   "cell_type": "markdown",
   "metadata": {},
   "source": [
    "### Challenge 3\n",
    "The simple substitution cipher basically consists of substituting every plaintext character for a different ciphertext character. The following is an example of one possible cipher from http://practicalcryptography.com/ciphers/simple-substitution-cipher/:\n",
    "1. Plain alphabet : abcdefghijklmnopqrstuvwxyz\n",
    "2. cipher alphabet: phqgiumeaylnofdxjkrcvstzwb"
   ]
  },
  {
   "cell_type": "code",
   "execution_count": 5,
   "metadata": {
    "collapsed": true
   },
   "outputs": [],
   "source": [
    "Plainalphabet = 'abcdefghijklmnopqrstuvwxyz'\n",
    "cipheralphabet= 'phqgiumeaylnofdxjkrcvstzwb'\n",
    "PA = list(Plainalphabet)\n",
    "CA = list(cipheralphabet)\n",
    "PACA = dict(zip(PA,CA))\n",
    "\n",
    "def cipher(text,cipher_alphabet, option):\n",
    "    words = text.split()\n",
    "    \n",
    "    if option == 'decipher':\n",
    "        dec = []\n",
    "        for word in words:\n",
    "            letters = list(word)\n",
    "            dec_word=[]\n",
    "            for letter in letters:\n",
    "                for k,v in PACA.items():\n",
    "                    if v == letter:\n",
    "                        dec_word.append(k)\n",
    "            dec.append(''.join(dec_word))\n",
    "        return ' '.join(dec)\n",
    "    \n",
    "    if option == 'encipher':\n",
    "        enc = []\n",
    "        for word in words:\n",
    "            letters = list(word)\n",
    "            enc_word=[]\n",
    "            for letter in letters:\n",
    "                for k,v in PACA.items():\n",
    "                    if k == letter:\n",
    "                        enc_word.append(v)\n",
    "            enc.append(''.join(enc_word))\n",
    "        return ' '.join(enc)"
   ]
  },
  {
   "cell_type": "code",
   "execution_count": 6,
   "metadata": {
    "collapsed": false
   },
   "outputs": [
    {
     "data": {
      "text/plain": [
       "'defend the east wall of the castle'"
      ]
     },
     "execution_count": 6,
     "metadata": {},
     "output_type": "execute_result"
    }
   ],
   "source": [
    "cipher('giuifg cei iprc tpnn du cei qprcni', PACA, 'decipher')"
   ]
  },
  {
   "cell_type": "markdown",
   "metadata": {},
   "source": [
    "### Challenge 4\n",
    "Implement a function that counts the number of isograms in a list of strings.\n",
    "1. An isogram is a word that has no repeating letters, consecutive or non-consecutive.\n",
    "2. Assume the empty string is an isogram and that the function should be case insensitive."
   ]
  },
  {
   "cell_type": "code",
   "execution_count": 7,
   "metadata": {
    "collapsed": true
   },
   "outputs": [],
   "source": [
    "def count_isograms(list_of_words):\n",
    "    isogramCount = 0\n",
    "    for word in list_of_words:\n",
    "        if len(word) == len(set(word)):\n",
    "            isogramCount += 1\n",
    "    return isogramCount    "
   ]
  },
  {
   "cell_type": "code",
   "execution_count": 8,
   "metadata": {
    "collapsed": false
   },
   "outputs": [
    {
     "data": {
      "text/plain": [
       "1"
      ]
     },
     "execution_count": 8,
     "metadata": {},
     "output_type": "execute_result"
    }
   ],
   "source": [
    "count_isograms(['conduct','letter','contract','hours','interview'])"
   ]
  },
  {
   "cell_type": "markdown",
   "metadata": {},
   "source": [
    "### Challenge 5\n",
    "Write a function that returns a list of matching items. Items are defined by a tuple with a letter and a number and we consider item 1 to match item 2 if:\n",
    "1. Both their letters are vowels (aeiou), or both are consonnants and,\n",
    "2. The sum of their numbers is a multiple of 3\n",
    "<br>\n",
    "(1,2) contains the same information as (2,1), the output list should only contain one of them."
   ]
  },
  {
   "cell_type": "code",
   "execution_count": 9,
   "metadata": {
    "collapsed": true
   },
   "outputs": [],
   "source": [
    "def matching_pairs(data_list):\n",
    "    vowelID = []\n",
    "    constID = []\n",
    "    \n",
    "    for index1, compEntry in enumerate(data_list):       \n",
    "        for index2, entry in enumerate(data_list):            \n",
    "            if index1 == index2:continue        \n",
    "            cond1 = compEntry[0] in ['a','e','i','o','u'] \n",
    "            cond2 = entry[0] in ['a','e','i','o','u'] \n",
    "            cond3 = compEntry[0] not in ['a','e','i','o','u'] \n",
    "            cond4 = entry[0] not in ['a','e','i','o','u']\n",
    "            cond5 = (compEntry[1]+ entry[1]) % 3 == 0  \n",
    "            \n",
    "            if cond1 and cond2 and cond5:\n",
    "                if sorted([index1,index2]) in vowelID:continue\n",
    "                vowelID.append([index1,index2])\n",
    "                \n",
    "            if cond3 and cond4 and cond5:\n",
    "                if sorted([index1,index2]) in constID:continue\n",
    "                constID.append([index1,index2])\n",
    "    \n",
    "    allID=[]\n",
    "    for item in vowelID+constID:\n",
    "        allID.append(tuple(item))\n",
    "    return allID"
   ]
  },
  {
   "cell_type": "code",
   "execution_count": 11,
   "metadata": {
    "collapsed": false
   },
   "outputs": [
    {
     "data": {
      "text/plain": [
       "[(0, 4), (1, 2), (3, 5)]"
      ]
     },
     "execution_count": 11,
     "metadata": {},
     "output_type": "execute_result"
    }
   ],
   "source": [
    "data_list=[('a',4),('b',5),('c',1),('d',3),('e',2),('f',6)]\n",
    "matching_pairs(data_list)"
   ]
  },
  {
   "cell_type": "code",
   "execution_count": null,
   "metadata": {
    "collapsed": true
   },
   "outputs": [],
   "source": []
  }
 ],
 "metadata": {
  "kernelspec": {
   "display_name": "Python 2",
   "language": "python",
   "name": "python2"
  },
  "language_info": {
   "codemirror_mode": {
    "name": "ipython",
    "version": 2
   },
   "file_extension": ".py",
   "mimetype": "text/x-python",
   "name": "python",
   "nbconvert_exporter": "python",
   "pygments_lexer": "ipython2",
   "version": "2.7.13"
  }
 },
 "nbformat": 4,
 "nbformat_minor": 2
}
